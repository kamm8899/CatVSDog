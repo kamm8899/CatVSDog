{
  "cells": [
    {
      "cell_type": "markdown",
      "metadata": {
        "id": "view-in-github",
        "colab_type": "text"
      },
      "source": [
        "<a href=\"https://colab.research.google.com/github/kamm8899/CatVSDog/blob/main/CatDog.ipynb\" target=\"_parent\"><img src=\"https://colab.research.google.com/assets/colab-badge.svg\" alt=\"Open In Colab\"/></a>"
      ]
    },
    {
      "cell_type": "code",
      "execution_count": null,
      "metadata": {
        "colab": {
          "base_uri": "https://localhost:8080/"
        },
        "id": "TcEdTU9qkAv_",
        "outputId": "7b38e004-8efd-4661-86ed-c1cbe2a1aa8f"
      },
      "outputs": [
        {
          "output_type": "stream",
          "name": "stdout",
          "text": [
            "Requirement already satisfied: patool in /usr/local/lib/python3.10/dist-packages (2.2.0)\n"
          ]
        }
      ],
      "source": [
        "!pip install patool"
      ]
    },
    {
      "cell_type": "code",
      "execution_count": null,
      "metadata": {
        "id": "Up40uEbeZEbz"
      },
      "outputs": [],
      "source": [
        "import numpy as np\n",
        "import tensorflow as tf\n",
        "from tensorflow import keras\n",
        "from tensorflow.keras.preprocessing.image import ImageDataGenerator\n",
        "import pandas as pd\n",
        "import seaborn as sns\n",
        "import matplotlib.pyplot as plt\n",
        "import patoolib"
      ]
    },
    {
      "cell_type": "markdown",
      "metadata": {
        "id": "Z8HBXhZQmcWy"
      },
      "source": []
    },
    {
      "cell_type": "code",
      "execution_count": null,
      "metadata": {
        "colab": {
          "base_uri": "https://localhost:8080/",
          "height": 321
        },
        "id": "N0pvuIQS1Nih",
        "outputId": "232ee619-18da-4588-fb4a-0d05efd4c0e2"
      },
      "outputs": [
        {
          "output_type": "stream",
          "name": "stderr",
          "text": [
            "INFO patool: Extracting /content/drive/MyDrive/test3.zip ...\n",
            "INFO:patool:Extracting /content/drive/MyDrive/test3.zip ...\n",
            "INFO patool: running /usr/bin/7z x -o./Unpack_bgclglk_ -- /content/drive/MyDrive/test3.zip\n",
            "INFO:patool:running /usr/bin/7z x -o./Unpack_bgclglk_ -- /content/drive/MyDrive/test3.zip\n",
            "INFO patool:     with input=''\n",
            "INFO:patool:    with input=''\n",
            "INFO patool: ... /content/drive/MyDrive/test3.zip extracted to `test3' (local file exists).\n",
            "INFO:patool:... /content/drive/MyDrive/test3.zip extracted to `test3' (local file exists).\n",
            "INFO patool: Extracting /content/drive/MyDrive/train5.zip ...\n",
            "INFO:patool:Extracting /content/drive/MyDrive/train5.zip ...\n",
            "INFO patool: running /usr/bin/7z x -o./Unpack_bp2o9ati -- /content/drive/MyDrive/train5.zip\n",
            "INFO:patool:running /usr/bin/7z x -o./Unpack_bp2o9ati -- /content/drive/MyDrive/train5.zip\n",
            "INFO patool:     with input=''\n",
            "INFO:patool:    with input=''\n",
            "INFO patool: ... /content/drive/MyDrive/train5.zip extracted to `train51' (multiple files in root).\n",
            "INFO:patool:... /content/drive/MyDrive/train5.zip extracted to `train51' (multiple files in root).\n"
          ]
        },
        {
          "output_type": "execute_result",
          "data": {
            "text/plain": [
              "'train51'"
            ],
            "application/vnd.google.colaboratory.intrinsic+json": {
              "type": "string"
            }
          },
          "metadata": {},
          "execution_count": 8
        }
      ],
      "source": [
        "patoolib.extract_archive('/content/drive/MyDrive/test3.zip')\n",
        "patoolib.extract_archive('/content/drive/MyDrive/train5.zip')"
      ]
    },
    {
      "cell_type": "code",
      "execution_count": null,
      "metadata": {
        "id": "qSNeuoL9kFGA"
      },
      "outputs": [],
      "source": [
        "img_size = (100, 100)\n",
        "batch_size = 64"
      ]
    },
    {
      "cell_type": "code",
      "execution_count": null,
      "metadata": {
        "colab": {
          "base_uri": "https://localhost:8080/"
        },
        "id": "I0NTs8PWkFWz",
        "outputId": "5c42595e-1f0c-44f4-a16f-d27076f1dfa6"
      },
      "outputs": [
        {
          "output_type": "stream",
          "name": "stdout",
          "text": [
            "Found 25000 files belonging to 2 classes.\n",
            "Found 12500 files belonging to 1 classes.\n"
          ]
        }
      ],
      "source": [
        "# Creating training and testing sets\n",
        "training_set =tf.keras.utils.image_dataset_from_directory('/content/train51/train',\n",
        "                                                 image_size = img_size,\n",
        "                                                 batch_size = batch_size,\n",
        "                                                 label_mode = 'binary',\n",
        "                                                class_names = ['cat', 'dog'])\n",
        "\n",
        "test_set = tf.keras.utils.image_dataset_from_directory('/content/test3/test1',\n",
        "                                            image_size = img_size,\n",
        "                                            batch_size = batch_size,\n",
        "                                            label_mode = None)\n"
      ]
    },
    {
      "cell_type": "code",
      "execution_count": null,
      "metadata": {
        "colab": {
          "base_uri": "https://localhost:8080/"
        },
        "id": "EVy3tIYLkFZh",
        "outputId": "9adefc81-fc32-4816-b710-c673a5bc30cb"
      },
      "outputs": [
        {
          "output_type": "stream",
          "name": "stdout",
          "text": [
            "Epoch 1/10\n",
            "391/391 [==============================] - 695s 2s/step - loss: 3.6929 - accuracy: 0.5880\n",
            "Epoch 2/10\n",
            "391/391 [==============================] - 695s 2s/step - loss: 0.6131 - accuracy: 0.6586\n",
            "Epoch 3/10\n",
            "391/391 [==============================] - 700s 2s/step - loss: 0.5568 - accuracy: 0.7129\n",
            "Epoch 4/10\n",
            "391/391 [==============================] - 686s 2s/step - loss: 0.4627 - accuracy: 0.7781\n",
            "Epoch 5/10\n",
            "391/391 [==============================] - 693s 2s/step - loss: 0.3582 - accuracy: 0.8381\n",
            "Epoch 6/10\n",
            "391/391 [==============================] - 698s 2s/step - loss: 0.2668 - accuracy: 0.8877\n",
            "Epoch 7/10\n",
            "391/391 [==============================] - 688s 2s/step - loss: 0.2457 - accuracy: 0.8990\n",
            "Epoch 8/10\n",
            "391/391 [==============================] - 688s 2s/step - loss: 0.1585 - accuracy: 0.9377\n",
            "Epoch 9/10\n",
            "391/391 [==============================] - 694s 2s/step - loss: 0.1413 - accuracy: 0.9472\n",
            "Epoch 10/10\n",
            "391/391 [==============================] - 686s 2s/step - loss: 0.1106 - accuracy: 0.9590\n"
          ]
        }
      ],
      "source": [
        "#Attempt 1 as is at 10 Epochs\n",
        "# Defining the model architecture\n",
        "model = keras.Sequential([\n",
        "    keras.layers.Conv2D(32, (3, 3), activation='relu', input_shape=(100, 100, 3)),\n",
        "    keras.layers.MaxPooling2D((2, 2)),\n",
        "    keras.layers.Conv2D(64, (3, 3), activation='relu'),\n",
        "    keras.layers.MaxPooling2D((2, 2)),\n",
        "    keras.layers.Conv2D(128, (3, 3), activation='relu'),\n",
        "    keras.layers.MaxPooling2D((2, 2)),\n",
        "    keras.layers.Flatten(),\n",
        "    keras.layers.Dense(512, activation='relu'),\n",
        "    keras.layers.Dense(1, activation='sigmoid')\n",
        "])\n",
        "\n",
        "# Compiling the model\n",
        "model.compile(loss='binary_crossentropy', optimizer='adam', metrics=['accuracy'])\n",
        "CNN_model =model.fit(training_set,epochs=10)"
      ]
    },
    {
      "cell_type": "code",
      "source": [
        "from google.colab import drive\n",
        "drive.mount('/content/drive')"
      ],
      "metadata": {
        "colab": {
          "base_uri": "https://localhost:8080/"
        },
        "id": "dEOMzwM2WnUb",
        "outputId": "3f6b600e-2c33-495f-b610-e559a9dd3829"
      },
      "execution_count": null,
      "outputs": [
        {
          "output_type": "stream",
          "name": "stdout",
          "text": [
            "Mounted at /content/drive\n"
          ]
        }
      ]
    },
    {
      "cell_type": "code",
      "source": [
        "#Plotting Accuracy\n",
        "\n",
        "plt.plot(CNN_model.history['accuracy'])\n",
        "plt.plot(CNN_model.history['loss'])\n",
        "plt.title('Model accuracy')\n",
        "plt.ylabel('Accuracy')\n",
        "plt.xlabel('Epoch')\n",
        "plt.legend(['accuracy', 'loss'], loc='upper left')\n",
        "plt.show()\n",
        "#accuracy has a ceiling of 1, accuracy rose loss decreased"
      ],
      "metadata": {
        "colab": {
          "base_uri": "https://localhost:8080/",
          "height": 472
        },
        "id": "WnYZjH4h4kiv",
        "outputId": "06904dc9-e45e-41a0-faa1-5368ff5979aa"
      },
      "execution_count": null,
      "outputs": [
        {
          "output_type": "display_data",
          "data": {
            "text/plain": [
              "<Figure size 640x480 with 1 Axes>"
            ],
            "image/png": "[encoded data removed]"
          },
          "metadata": {}
        }
      ]
    },
    {
      "cell_type": "markdown",
      "metadata": {
        "id": "aEdn2IMFx118"
      },
      "source": []
    },
    {
      "cell_type": "code",
      "execution_count": null,
      "metadata": {
        "id": "2ZY2MikFkFcI",
        "colab": {
          "base_uri": "https://localhost:8080/"
        },
        "outputId": "0816b08d-f5d7-491d-856f-3a5aa5d9214a"
      },
      "outputs": [
        {
          "output_type": "stream",
          "name": "stdout",
          "text": [
            "196/196 [==============================] - 112s 569ms/step\n"
          ]
        }
      ],
      "source": [
        "\n",
        "#predict\n",
        "#predict = model.predict_generator(test_generator, steps=np.ceil(nb_samples/batch_size))\n",
        "predictions = model.predict(test_set) #what is my xtest\n",
        "\n",
        "#actuals = list(test_set) #what is my ytest\n",
        "\n",
        "#sub = pd.DataFrame({'Actual': actuals, 'Predictions': predictions})\n",
        "#sub.to_csv('./output_catordog.csv', index=False)"
      ]
    },
    {
      "cell_type": "code",
      "source": [
        "#creates array 0/1\n",
        "pred_label = np.where(predictions.flatten()<0.5,1,0)\n",
        "pred_label\n",
        "index= np.arange(1,12501)\n",
        "result = pd.DataFrame({'id':index, 'label': pred_label})\n",
        "result.to_csv('/content/drive/MyDrive/cat_dog_predictions.csv')"
      ],
      "metadata": {
        "id": "9bGX-liVOoeM"
      },
      "execution_count": null,
      "outputs": []
    },
    {
      "cell_type": "code",
      "source": [
        "len(pred_label)\n",
        "len(index)"
      ],
      "metadata": {
        "colab": {
          "base_uri": "https://localhost:8080/"
        },
        "id": "CyM9W72VQTfG",
        "outputId": "1d6fe083-4259-4806-d33c-2c2e136ea061"
      },
      "execution_count": null,
      "outputs": [
        {
          "output_type": "execute_result",
          "data": {
            "text/plain": [
              "25000"
            ]
          },
          "metadata": {},
          "execution_count": 29
        }
      ]
    },
    {
      "cell_type": "code",
      "source": [
        "#Attempt 2\n",
        "# Creating training and testing sets\n",
        "training_set, validation_set =tf.keras.utils.image_dataset_from_directory('/content/train51/train',\n",
        "                                                 image_size = img_size,\n",
        "                                                 batch_size = batch_size,\n",
        "                                                 label_mode = 'binary',\n",
        "                                                 seed = 0,\n",
        "                                                 validation_split = 0.2,\n",
        "                                                 subset= 'both',\n",
        "                                                 class_names = ['cat', 'dog'])\n",
        "\n",
        "\n"
      ],
      "metadata": {
        "colab": {
          "base_uri": "https://localhost:8080/"
        },
        "id": "iSJKmCaASyME",
        "outputId": "eb1773ce-c860-436e-aa91-f317181e8c11"
      },
      "execution_count": null,
      "outputs": [
        {
          "output_type": "stream",
          "name": "stdout",
          "text": [
            "Found 25000 files belonging to 2 classes.\n",
            "Using 20000 files for training.\n",
            "Using 5000 files for validation.\n"
          ]
        }
      ]
    },
    {
      "cell_type": "code",
      "source": [
        "normalization_layer = tf.keras.layers.Rescaling(1./255)\n",
        "training_set = training_set.map(lambda x, y: (normalization_layer(x),y))\n",
        "validation_set=validation_set.map(lambda x, y: (normalization_layer(x),y))"
      ],
      "metadata": {
        "id": "4rZSdCORUTXn"
      },
      "execution_count": null,
      "outputs": []
    },
    {
      "cell_type": "code",
      "source": [
        "#adding Normalization, scaling data and adding validation set\n",
        "model = keras.Sequential([\n",
        "    keras.layers.Conv2D(32, (3, 3), activation='relu', input_shape=(100, 100, 3)),\n",
        "    keras.layers.MaxPooling2D((2, 2)),\n",
        "    keras.layers.BatchNormalization(axis=-1),\n",
        "    keras.layers.Conv2D(64, (3, 3), activation='relu'),\n",
        "    keras.layers.MaxPooling2D((2, 2)),\n",
        "    keras.layers.BatchNormalization(axis=-1),\n",
        "    keras.layers.Conv2D(128, (3, 3), activation='relu'),\n",
        "    keras.layers.MaxPooling2D((2, 2)),\n",
        "    keras.layers.BatchNormalization(axis=-1),\n",
        "    keras.layers.Flatten(),\n",
        "    keras.layers.Dense(512, activation='relu'),\n",
        "    keras.layers.Dense(1, activation='sigmoid')\n",
        "])\n",
        "\n",
        "# Compiling the model\n",
        "model.compile(loss='binary_crossentropy', optimizer='adam', metrics=['accuracy'])\n",
        "attempt2_model =model.fit(training_set,epochs=10, validation_data=validation_set)"
      ],
      "metadata": {
        "colab": {
          "base_uri": "https://localhost:8080/"
        },
        "id": "rXSMQST9U-ZX",
        "outputId": "492e14dc-085a-45fb-c722-6155127c7ea8"
      },
      "execution_count": 39,
      "outputs": [
        {
          "output_type": "stream",
          "name": "stdout",
          "text": [
            "Epoch 1/10\n",
            "313/313 [==============================] - 676s 2s/step - loss: 0.9879 - accuracy: 0.7064 - val_loss: 1.2722 - val_accuracy: 0.5106\n",
            "Epoch 2/10\n",
            "313/313 [==============================] - 620s 2s/step - loss: 0.3893 - accuracy: 0.8237 - val_loss: 0.4966 - val_accuracy: 0.7678\n",
            "Epoch 3/10\n",
            "313/313 [==============================] - 592s 2s/step - loss: 0.2933 - accuracy: 0.8773 - val_loss: 0.5341 - val_accuracy: 0.7818\n",
            "Epoch 4/10\n",
            "313/313 [==============================] - 674s 2s/step - loss: 0.2048 - accuracy: 0.9152 - val_loss: 0.6048 - val_accuracy: 0.8030\n",
            "Epoch 5/10\n",
            "313/313 [==============================] - 672s 2s/step - loss: 0.1467 - accuracy: 0.9438 - val_loss: 0.6963 - val_accuracy: 0.7972\n",
            "Epoch 6/10\n",
            "313/313 [==============================] - 642s 2s/step - loss: 0.1022 - accuracy: 0.9621 - val_loss: 0.5752 - val_accuracy: 0.8096\n",
            "Epoch 7/10\n",
            "313/313 [==============================] - 663s 2s/step - loss: 0.0746 - accuracy: 0.9734 - val_loss: 0.8334 - val_accuracy: 0.7838\n",
            "Epoch 8/10\n",
            "313/313 [==============================] - 622s 2s/step - loss: 0.0588 - accuracy: 0.9795 - val_loss: 0.8045 - val_accuracy: 0.8260\n",
            "Epoch 9/10\n",
            "313/313 [==============================] - 623s 2s/step - loss: 0.0566 - accuracy: 0.9801 - val_loss: 0.7539 - val_accuracy: 0.8072\n",
            "Epoch 10/10\n",
            "313/313 [==============================] - 624s 2s/step - loss: 0.0475 - accuracy: 0.9842 - val_loss: 0.7932 - val_accuracy: 0.8236\n"
          ]
        }
      ]
    },
    {
      "cell_type": "code",
      "source": [
        "#plotting accuracy\n",
        "plt.plot(attempt2_model.history['accuracy'])\n",
        "plt.plot(attempt2_model.history['val_accuracy'])\n",
        "plt.title('Model accuracy')\n",
        "plt.ylabel('Accuracy')\n",
        "plt.xlabel('Epoch')\n",
        "plt.legend(['Train', 'Test'], loc='upper left')\n",
        "plt.show()"
      ],
      "metadata": {
        "colab": {
          "base_uri": "https://localhost:8080/",
          "height": 472
        },
        "id": "vpsQNbqTkiCq",
        "outputId": "2d70b280-6c11-4d4a-b233-8727bb6a3626"
      },
      "execution_count": 40,
      "outputs": [
        {
          "output_type": "display_data",
          "data": {
            "text/plain": [
              "<Figure size 640x480 with 1 Axes>"
            ],
            "image/png": "[encoded data removed]"
          },
          "metadata": {}
        }
      ]
    },
    {
      "cell_type": "code",
      "source": [
        "#plotting loss\n",
        "plt.plot(attempt2_model.history['loss'])\n",
        "plt.plot(attempt2_model.history['val_loss'])\n",
        "plt.title('Model loss')\n",
        "plt.ylabel('Loss')\n",
        "plt.xlabel('Epoch')\n",
        "plt.legend(['Train', 'Test'], loc='upper left')\n",
        "plt.show()"
      ],
      "metadata": {
        "colab": {
          "base_uri": "https://localhost:8080/",
          "height": 472
        },
        "id": "KnJTCq_ykp6Y",
        "outputId": "f4327ba6-1c9f-445b-f24d-1f5f3dc2f9da"
      },
      "execution_count": 41,
      "outputs": [
        {
          "output_type": "display_data",
          "data": {
            "text/plain": [
              "<Figure size 640x480 with 1 Axes>"
            ],
            "image/png": "[encoded data removed]"
          },
          "metadata": {}
        }
      ]
    },
    {
      "cell_type": "code",
      "source": [
        "#evaluate\n",
        "score = attempt2_model.evaluate(validation_set)\n",
        "print()\n",
        "print('Test accuracy: ', score[1])"
      ],
      "metadata": {
        "id": "EMoEo3vhWMQe",
        "colab": {
          "base_uri": "https://localhost:8080/",
          "height": 198
        },
        "outputId": "71452372-166f-4791-cace-c4069ec12a8c"
      },
      "execution_count": 42,
      "outputs": [
        {
          "output_type": "error",
          "ename": "AttributeError",
          "evalue": "'History' object has no attribute 'evaluate'",
          "traceback": [
            "\u001b[0;31m---------------------------------------------------------------------------\u001b[0m",
            "\u001b[0;31mAttributeError\u001b[0m                            Traceback (most recent call last)",
            "\u001b[0;32m<ipython-input-42-cfe1f02d7e67>\u001b[0m in \u001b[0;36m<cell line: 2>\u001b[0;34m()\u001b[0m\n\u001b[1;32m      1\u001b[0m \u001b[0;31m#evaluate\u001b[0m\u001b[0;34m\u001b[0m\u001b[0;34m\u001b[0m\u001b[0m\n\u001b[0;32m----> 2\u001b[0;31m \u001b[0mscore\u001b[0m \u001b[0;34m=\u001b[0m \u001b[0mattempt2_model\u001b[0m\u001b[0;34m.\u001b[0m\u001b[0mevaluate\u001b[0m\u001b[0;34m(\u001b[0m\u001b[0mvalidation_set\u001b[0m\u001b[0;34m)\u001b[0m\u001b[0;34m\u001b[0m\u001b[0;34m\u001b[0m\u001b[0m\n\u001b[0m\u001b[1;32m      3\u001b[0m \u001b[0mprint\u001b[0m\u001b[0;34m(\u001b[0m\u001b[0;34m)\u001b[0m\u001b[0;34m\u001b[0m\u001b[0;34m\u001b[0m\u001b[0m\n\u001b[1;32m      4\u001b[0m \u001b[0mprint\u001b[0m\u001b[0;34m(\u001b[0m\u001b[0;34m'Test accuracy: '\u001b[0m\u001b[0;34m,\u001b[0m \u001b[0mscore\u001b[0m\u001b[0;34m[\u001b[0m\u001b[0;36m1\u001b[0m\u001b[0;34m]\u001b[0m\u001b[0;34m)\u001b[0m\u001b[0;34m\u001b[0m\u001b[0;34m\u001b[0m\u001b[0m\n",
            "\u001b[0;31mAttributeError\u001b[0m: 'History' object has no attribute 'evaluate'"
          ]
        }
      ]
    },
    {
      "cell_type": "code",
      "source": [
        "#Make plot for training and validation set\n",
        "#two plots one for loss one for accruacy\n",
        "#predict\n",
        "#predict = model.predict_generator(test_generator, steps=np.ceil(nb_samples/batch_size))\n",
        "predictions = attempt2_model.predict(test_set) #what is my xtest\n",
        "\n",
        "#actuals = list(test_set) #what is my ytest\n",
        "\n",
        "#sub = pd.DataFrame({'Actual': actuals, 'Predictions': predictions})\n",
        "#sub.to_csv('./output_catordog.csv', index=False)\n",
        "#creates array 0/1\n",
        "pred_label = np.where(predictions.flatten()<0.5,1,0)\n",
        "pred_label\n",
        "index= np.arange(1,12501)\n",
        "result = pd.DataFrame({'id':index, 'label': pred_label})\n",
        "result.to_csv('/content/drive/MyDrive/cat_dog_predictions2.csv')\n"
      ],
      "metadata": {
        "id": "zx0qDy6aWelH",
        "colab": {
          "base_uri": "https://localhost:8080/",
          "height": 216
        },
        "outputId": "b5ede271-b323-4526-f902-21670e1a485e"
      },
      "execution_count": 43,
      "outputs": [
        {
          "output_type": "error",
          "ename": "AttributeError",
          "evalue": "'History' object has no attribute 'predict'",
          "traceback": [
            "\u001b[0;31m---------------------------------------------------------------------------\u001b[0m",
            "\u001b[0;31mAttributeError\u001b[0m                            Traceback (most recent call last)",
            "\u001b[0;32m<ipython-input-43-02b7644f623c>\u001b[0m in \u001b[0;36m<cell line: 5>\u001b[0;34m()\u001b[0m\n\u001b[1;32m      3\u001b[0m \u001b[0;31m#predict\u001b[0m\u001b[0;34m\u001b[0m\u001b[0;34m\u001b[0m\u001b[0m\n\u001b[1;32m      4\u001b[0m \u001b[0;31m#predict = model.predict_generator(test_generator, steps=np.ceil(nb_samples/batch_size))\u001b[0m\u001b[0;34m\u001b[0m\u001b[0;34m\u001b[0m\u001b[0m\n\u001b[0;32m----> 5\u001b[0;31m \u001b[0mpredictions\u001b[0m \u001b[0;34m=\u001b[0m \u001b[0mattempt2_model\u001b[0m\u001b[0;34m.\u001b[0m\u001b[0mpredict\u001b[0m\u001b[0;34m(\u001b[0m\u001b[0mtest_set\u001b[0m\u001b[0;34m)\u001b[0m \u001b[0;31m#what is my xtest\u001b[0m\u001b[0;34m\u001b[0m\u001b[0;34m\u001b[0m\u001b[0m\n\u001b[0m\u001b[1;32m      6\u001b[0m \u001b[0;34m\u001b[0m\u001b[0m\n\u001b[1;32m      7\u001b[0m \u001b[0;31m#actuals = list(test_set) #what is my ytest\u001b[0m\u001b[0;34m\u001b[0m\u001b[0;34m\u001b[0m\u001b[0m\n",
            "\u001b[0;31mAttributeError\u001b[0m: 'History' object has no attribute 'predict'"
          ]
        }
      ]
    },
    {
      "cell_type": "code",
      "source": [
        "#ANN\n",
        "#add layer to conv or change EPOCHS\n",
        "#Restnet\n",
        "#Autoencoder"
      ],
      "metadata": {
        "id": "AtzZkVspXhdv"
      },
      "execution_count": null,
      "outputs": []
    }
  ],
  "metadata": {
    "colab": {
      "provenance": [],
      "include_colab_link": true
    },
    "kernelspec": {
      "display_name": "Python 3",
      "name": "python3"
    },
    "language_info": {
      "name": "python"
    }
  },
  "nbformat": 4,
  "nbformat_minor": 0
}